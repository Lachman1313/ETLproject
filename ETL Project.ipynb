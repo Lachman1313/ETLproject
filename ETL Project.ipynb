{
 "cells": [
  {
   "cell_type": "code",
   "execution_count": 1,
   "metadata": {},
   "outputs": [],
   "source": [
    "# Dependencies\n",
    "import pandas as pd\n",
    "from sqlalchemy import create_engine"
   ]
  },
  {
   "cell_type": "code",
   "execution_count": 2,
   "metadata": {},
   "outputs": [],
   "source": [
    "# File Path\n",
    "all_ages_csv_file = 'Resources/all-ages.csv'\n",
    "\n",
    "#Import file as a DataFrame\n",
    "all_ages_df = pd.read_csv(all_ages_csv_file)\n"
   ]
  },
  {
   "cell_type": "code",
   "execution_count": 3,
   "metadata": {},
   "outputs": [],
   "source": [
    "new_all_ages_df = all_ages_df[['Major_code', 'Major', 'Major_category', 'Total', 'Employed', 'Employed_full_time_year_round', 'Unemployed', 'Unemployment_rate']]\n"
   ]
  },
  {
   "cell_type": "code",
   "execution_count": 4,
   "metadata": {},
   "outputs": [],
   "source": [
    "# File Path\n",
    "grad_students_csv_file = 'Resources/grad-students.csv'\n",
    "\n",
    "#Import file as a DataFrame\n",
    "grad_students_df = pd.read_csv(grad_students_csv_file)\n"
   ]
  },
  {
   "cell_type": "code",
   "execution_count": 5,
   "metadata": {},
   "outputs": [],
   "source": [
    "new_grad_students_df = grad_students_df[['Major_code', 'Grad_total', 'Grad_employed', 'Grad_full_time_year_round', 'Grad_unemployed','Nongrad_total', 'Nongrad_employed', 'Nongrad_full_time_year_round', 'Nongrad_unemployed']]\n"
   ]
  },
  {
   "cell_type": "code",
   "execution_count": 6,
   "metadata": {},
   "outputs": [],
   "source": [
    "merge_data = pd.merge(new_all_ages_df, new_grad_students_df, on=\"Major_code\", how=\"inner\")\n"
   ]
  },
  {
   "cell_type": "code",
   "execution_count": 7,
   "metadata": {},
   "outputs": [],
   "source": [
    "ag_nat = merge_data[merge_data[\"Major_category\"] == \"Agriculture & Natural Resources\"]\n",
    "arts_db =  merge_data[merge_data[\"Major_category\"] == \"Arts\"]\n",
    "bio_db = merge_data[merge_data[\"Major_category\"] == \"Biology & Life Science\"]\n",
    "business_db =  merge_data[merge_data[\"Major_category\"] == \"Business\"]\n",
    "comm_db =  merge_data[merge_data[\"Major_category\"] == \"Communications & Journalism\"]\n",
    "comp_math_db =  merge_data[merge_data[\"Major_category\"] == \"Computers & Mathematics\"]\n",
    "education_db =  merge_data[merge_data[\"Major_category\"] == \"Education\"]\n",
    "engine_db =  merge_data[merge_data[\"Major_category\"] == \"Engineering\"]\n",
    "health_db =  merge_data[merge_data[\"Major_category\"] == \"Health\"]\n",
    "humanity_db =  merge_data[merge_data[\"Major_category\"] == \"Humanities & Liberal Arts\"]\n",
    "indus_db =  merge_data[merge_data[\"Major_category\"] == \"Industrial Arts & Consumer Services\"]\n",
    "inter_db =  merge_data[merge_data[\"Major_category\"] == \"Interdisciplinary\"]\n",
    "law_pub_db =  merge_data[merge_data[\"Major_category\"] == \"Law & Public Policy\"]\n",
    "phys_sci_db =  merge_data[merge_data[\"Major_category\"] == \"Physical Sciences\"]\n",
    "psyc_social_db =  merge_data[merge_data[\"Major_category\"] == \"Psychology & Social Work\"]\n",
    "soc_sci_db =  merge_data[merge_data[\"Major_category\"] == \"Social Science\"]\n",
    "majors_db = merge_data[[\"Major_code\", \"Major\", \"Major_category\"]]\n"
   ]
  },
  {
   "cell_type": "code",
   "execution_count": 8,
   "metadata": {},
   "outputs": [],
   "source": [
    "clean_ag_nat = ag_nat[['Major', 'Grad_total', 'Grad_employed', 'Grad_full_time_year_round', 'Grad_unemployed','Nongrad_total', 'Nongrad_employed', 'Nongrad_full_time_year_round', 'Nongrad_unemployed']]\n",
    "clean_arts_db = arts_db[['Major', 'Grad_total', 'Grad_employed', 'Grad_full_time_year_round', 'Grad_unemployed','Nongrad_total', 'Nongrad_employed', 'Nongrad_full_time_year_round', 'Nongrad_unemployed']]\n",
    "clean_bio_db = bio_db[['Major', 'Grad_total', 'Grad_employed', 'Grad_full_time_year_round', 'Grad_unemployed','Nongrad_total', 'Nongrad_employed', 'Nongrad_full_time_year_round', 'Nongrad_unemployed']]\n",
    "clean_bus_db = business_db[['Major', 'Grad_total', 'Grad_employed', 'Grad_full_time_year_round', 'Grad_unemployed','Nongrad_total', 'Nongrad_employed', 'Nongrad_full_time_year_round', 'Nongrad_unemployed']]\n",
    "clean_comm_db = comm_db[['Major', 'Grad_total', 'Grad_employed', 'Grad_full_time_year_round', 'Grad_unemployed','Nongrad_total', 'Nongrad_employed', 'Nongrad_full_time_year_round', 'Nongrad_unemployed']]\n",
    "clean_comp_math_db = comp_math_db[['Major', 'Grad_total', 'Grad_employed', 'Grad_full_time_year_round', 'Grad_unemployed','Nongrad_total', 'Nongrad_employed', 'Nongrad_full_time_year_round', 'Nongrad_unemployed']]\n",
    "clean_education_db = education_db[['Major', 'Grad_total', 'Grad_employed', 'Grad_full_time_year_round', 'Grad_unemployed','Nongrad_total', 'Nongrad_employed', 'Nongrad_full_time_year_round', 'Nongrad_unemployed']]\n",
    "clean_engine_db = engine_db[['Major', 'Grad_total', 'Grad_employed', 'Grad_full_time_year_round', 'Grad_unemployed','Nongrad_total', 'Nongrad_employed', 'Nongrad_full_time_year_round', 'Nongrad_unemployed']]\n",
    "clean_health_db = health_db[['Major', 'Grad_total', 'Grad_employed', 'Grad_full_time_year_round', 'Grad_unemployed','Nongrad_total', 'Nongrad_employed', 'Nongrad_full_time_year_round', 'Nongrad_unemployed']]\n",
    "clean_humanity_db = humanity_db[['Major', 'Grad_total', 'Grad_employed', 'Grad_full_time_year_round', 'Grad_unemployed','Nongrad_total', 'Nongrad_employed', 'Nongrad_full_time_year_round', 'Nongrad_unemployed']]\n",
    "clean_indus_db = indus_db[['Major', 'Grad_total', 'Grad_employed', 'Grad_full_time_year_round', 'Grad_unemployed','Nongrad_total', 'Nongrad_employed', 'Nongrad_full_time_year_round', 'Nongrad_unemployed']]\n",
    "clean_inter_db = inter_db[['Major', 'Grad_total', 'Grad_employed', 'Grad_full_time_year_round', 'Grad_unemployed','Nongrad_total', 'Nongrad_employed', 'Nongrad_full_time_year_round', 'Nongrad_unemployed']]\n",
    "clean_law_db = law_pub_db[['Major', 'Grad_total', 'Grad_employed', 'Grad_full_time_year_round', 'Grad_unemployed','Nongrad_total', 'Nongrad_employed', 'Nongrad_full_time_year_round', 'Nongrad_unemployed']]\n",
    "clean_phys_sci_db = phys_sci_db[['Major', 'Grad_total', 'Grad_employed', 'Grad_full_time_year_round', 'Grad_unemployed','Nongrad_total', 'Nongrad_employed', 'Nongrad_full_time_year_round', 'Nongrad_unemployed']]\n",
    "clean_psych_db = psyc_social_db[['Major', 'Grad_total', 'Grad_employed', 'Grad_full_time_year_round', 'Grad_unemployed','Nongrad_total', 'Nongrad_employed', 'Nongrad_full_time_year_round', 'Nongrad_unemployed']]\n",
    "clean_soc_sci_db = soc_sci_db[['Major', 'Grad_total', 'Grad_employed', 'Grad_full_time_year_round', 'Grad_unemployed','Nongrad_total', 'Nongrad_employed', 'Nongrad_full_time_year_round', 'Nongrad_unemployed']]\n"
   ]
  },
  {
   "cell_type": "code",
   "execution_count": 9,
   "metadata": {},
   "outputs": [],
   "source": [
    "connection_string = \"postgres:postgres@localhost:5432/College\"\n",
    "engine = create_engine(f'postgresql://{connection_string}')"
   ]
  },
  {
   "cell_type": "code",
   "execution_count": 10,
   "metadata": {},
   "outputs": [
    {
     "data": {
      "text/plain": [
       "['Majors_db',\n",
       " 'clean_humanity_db',\n",
       " 'clean_indus_db',\n",
       " 'clean_inter_db',\n",
       " 'clean_law_db',\n",
       " 'clean_phys_sci_db',\n",
       " 'clean_psyc_db',\n",
       " 'clean_soc_sci_db',\n",
       " 'clean_ag_nat',\n",
       " 'clean_arts_db',\n",
       " 'clean_bio_db',\n",
       " 'clean_bus_db',\n",
       " 'clean_comm_db',\n",
       " 'clean_comp_math_db',\n",
       " 'clean_education_db',\n",
       " 'clean_engine_db',\n",
       " 'clean_health_db']"
      ]
     },
     "execution_count": 10,
     "metadata": {},
     "output_type": "execute_result"
    }
   ],
   "source": [
    "engine.table_names()"
   ]
  },
  {
   "cell_type": "code",
   "execution_count": 11,
   "metadata": {},
   "outputs": [],
   "source": [
    "majors_db.to_sql(name='majors_db', con=engine, if_exists='append', index=True)"
   ]
  },
  {
   "cell_type": "code",
   "execution_count": 14,
   "metadata": {},
   "outputs": [],
   "source": [
    "clean_humanity_db.to_sql(name='clean_humanity_db', con=engine, if_exists='replace', index=True, index_label=\"id\")"
   ]
  },
  {
   "cell_type": "code",
   "execution_count": 15,
   "metadata": {},
   "outputs": [],
   "source": [
    "clean_arts_db.to_sql(name='clean_arts_db', con=engine, if_exists='replace', index=True, index_label=\"id\")"
   ]
  },
  {
   "cell_type": "code",
   "execution_count": 16,
   "metadata": {},
   "outputs": [],
   "source": [
    "clean_ag_nat.to_sql(name='clean_ag_nat', con=engine, if_exists='replace', index=True, index_label=\"id\")"
   ]
  },
  {
   "cell_type": "code",
   "execution_count": 17,
   "metadata": {},
   "outputs": [],
   "source": [
    "clean_bio_db.to_sql(name='clean_bio_db', con=engine, if_exists='replace', index=True, index_label=\"id\")"
   ]
  },
  {
   "cell_type": "code",
   "execution_count": 18,
   "metadata": {},
   "outputs": [],
   "source": [
    "clean_bus_db.to_sql(name='clean_bus_db', con=engine, if_exists='replace', index=True,index_label=\"id\")"
   ]
  },
  {
   "cell_type": "code",
   "execution_count": 19,
   "metadata": {},
   "outputs": [],
   "source": [
    "clean_comm_db.to_sql(name='clean_comm_db', con=engine, if_exists='replace', index=True,index_label=\"id\")"
   ]
  },
  {
   "cell_type": "code",
   "execution_count": 20,
   "metadata": {},
   "outputs": [],
   "source": [
    "clean_comp_math_db.to_sql(name='clean_comp_math_db', con=engine, if_exists='replace', index=True,index_label=\"id\")"
   ]
  },
  {
   "cell_type": "code",
   "execution_count": 21,
   "metadata": {},
   "outputs": [],
   "source": [
    "clean_education_db.to_sql(name='clean_education_db', con=engine, if_exists='replace', index=True,index_label=\"id\")"
   ]
  },
  {
   "cell_type": "code",
   "execution_count": 22,
   "metadata": {},
   "outputs": [],
   "source": [
    "clean_engine_db.to_sql(name='clean_engine_db', con=engine, if_exists='replace', index=True,index_label=\"id\")"
   ]
  },
  {
   "cell_type": "code",
   "execution_count": 23,
   "metadata": {},
   "outputs": [],
   "source": [
    "clean_health_db.to_sql(name='clean_health_db', con=engine, if_exists='replace', index=True,index_label=\"id\")"
   ]
  },
  {
   "cell_type": "code",
   "execution_count": 24,
   "metadata": {},
   "outputs": [],
   "source": [
    "clean_indus_db.to_sql(name='clean_indus_db', con=engine, if_exists='replace', index=True,index_label=\"id\")"
   ]
  },
  {
   "cell_type": "code",
   "execution_count": 25,
   "metadata": {},
   "outputs": [],
   "source": [
    "clean_inter_db.to_sql(name='clean_inter_db', con=engine, if_exists='replace', index=True,index_label=\"id\")"
   ]
  },
  {
   "cell_type": "code",
   "execution_count": 26,
   "metadata": {},
   "outputs": [],
   "source": [
    "clean_law_db.to_sql(name='clean_law_db', con=engine, if_exists='replace', index=True,index_label=\"id\")"
   ]
  },
  {
   "cell_type": "code",
   "execution_count": 27,
   "metadata": {},
   "outputs": [],
   "source": [
    "clean_phys_sci_db.to_sql(name='clean_phys_sci_db', con=engine, if_exists='replace', index=True,index_label=\"id\")"
   ]
  },
  {
   "cell_type": "code",
   "execution_count": 28,
   "metadata": {},
   "outputs": [],
   "source": [
    "clean_psych_db.to_sql(name='clean_humanity_db', con=engine, if_exists='replace', index=True,index_label=\"id\")"
   ]
  },
  {
   "cell_type": "code",
   "execution_count": 29,
   "metadata": {},
   "outputs": [],
   "source": [
    "clean_soc_sci_db.to_sql(name='clean_soc_sci_db', con=engine, if_exists='replace', index=True, index_label=\"id\")"
   ]
  },
  {
   "cell_type": "code",
   "execution_count": 32,
   "metadata": {},
   "outputs": [
    {
     "data": {
      "text/html": [
       "<div>\n",
       "<style scoped>\n",
       "    .dataframe tbody tr th:only-of-type {\n",
       "        vertical-align: middle;\n",
       "    }\n",
       "\n",
       "    .dataframe tbody tr th {\n",
       "        vertical-align: top;\n",
       "    }\n",
       "\n",
       "    .dataframe thead th {\n",
       "        text-align: right;\n",
       "    }\n",
       "</style>\n",
       "<table border=\"1\" class=\"dataframe\">\n",
       "  <thead>\n",
       "    <tr style=\"text-align: right;\">\n",
       "      <th></th>\n",
       "      <th>index</th>\n",
       "      <th>Major_code</th>\n",
       "      <th>Major</th>\n",
       "      <th>Major_category</th>\n",
       "    </tr>\n",
       "  </thead>\n",
       "  <tbody>\n",
       "    <tr>\n",
       "      <th>0</th>\n",
       "      <td>0</td>\n",
       "      <td>1100</td>\n",
       "      <td>GENERAL AGRICULTURE</td>\n",
       "      <td>Agriculture &amp; Natural Resources</td>\n",
       "    </tr>\n",
       "    <tr>\n",
       "      <th>1</th>\n",
       "      <td>1</td>\n",
       "      <td>1101</td>\n",
       "      <td>AGRICULTURE PRODUCTION AND MANAGEMENT</td>\n",
       "      <td>Agriculture &amp; Natural Resources</td>\n",
       "    </tr>\n",
       "    <tr>\n",
       "      <th>2</th>\n",
       "      <td>2</td>\n",
       "      <td>1102</td>\n",
       "      <td>AGRICULTURAL ECONOMICS</td>\n",
       "      <td>Agriculture &amp; Natural Resources</td>\n",
       "    </tr>\n",
       "    <tr>\n",
       "      <th>3</th>\n",
       "      <td>3</td>\n",
       "      <td>1103</td>\n",
       "      <td>ANIMAL SCIENCES</td>\n",
       "      <td>Agriculture &amp; Natural Resources</td>\n",
       "    </tr>\n",
       "    <tr>\n",
       "      <th>4</th>\n",
       "      <td>4</td>\n",
       "      <td>1104</td>\n",
       "      <td>FOOD SCIENCE</td>\n",
       "      <td>Agriculture &amp; Natural Resources</td>\n",
       "    </tr>\n",
       "  </tbody>\n",
       "</table>\n",
       "</div>"
      ],
      "text/plain": [
       "   index  Major_code                                  Major  \\\n",
       "0      0        1100                    GENERAL AGRICULTURE   \n",
       "1      1        1101  AGRICULTURE PRODUCTION AND MANAGEMENT   \n",
       "2      2        1102                 AGRICULTURAL ECONOMICS   \n",
       "3      3        1103                        ANIMAL SCIENCES   \n",
       "4      4        1104                           FOOD SCIENCE   \n",
       "\n",
       "                    Major_category  \n",
       "0  Agriculture & Natural Resources  \n",
       "1  Agriculture & Natural Resources  \n",
       "2  Agriculture & Natural Resources  \n",
       "3  Agriculture & Natural Resources  \n",
       "4  Agriculture & Natural Resources  "
      ]
     },
     "execution_count": 32,
     "metadata": {},
     "output_type": "execute_result"
    }
   ],
   "source": [
    "pd.read_sql_query('select * from majors_db', con=engine).head()"
   ]
  },
  {
   "cell_type": "code",
   "execution_count": null,
   "metadata": {},
   "outputs": [],
   "source": []
  }
 ],
 "metadata": {
  "kernelspec": {
   "display_name": "Python 3",
   "language": "python",
   "name": "python3"
  },
  "language_info": {
   "codemirror_mode": {
    "name": "ipython",
    "version": 3
   },
   "file_extension": ".py",
   "mimetype": "text/x-python",
   "name": "python",
   "nbconvert_exporter": "python",
   "pygments_lexer": "ipython3",
   "version": "3.7.3"
  }
 },
 "nbformat": 4,
 "nbformat_minor": 4
}
