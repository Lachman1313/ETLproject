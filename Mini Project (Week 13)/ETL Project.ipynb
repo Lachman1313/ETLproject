{
 "cells": [
  {
   "cell_type": "code",
   "execution_count": 37,
   "metadata": {},
   "outputs": [],
   "source": [
    "# Dependencies\n",
    "import pandas as pd"
   ]
  },
  {
   "cell_type": "code",
   "execution_count": 38,
   "metadata": {},
   "outputs": [],
   "source": [
    "# File Path\n",
    "all_ages_csv_file = 'Resources/all-ages.csv'\n",
    "\n",
    "#Import file as a DataFrame\n",
    "all_ages_df = pd.read_csv(all_ages_csv_file)\n"
   ]
  },
  {
   "cell_type": "code",
   "execution_count": 39,
   "metadata": {},
   "outputs": [],
   "source": [
    "new_all_ages_df = all_ages_df[['Major_code', 'Major', 'Major_category', 'Total', 'Employed', 'Employed_full_time_year_round', 'Unemployed', 'Unemployment_rate']]\n"
   ]
  },
  {
   "cell_type": "code",
   "execution_count": 29,
   "metadata": {},
   "outputs": [],
   "source": [
    "# File Path\n",
    "grad_students_csv_file = 'Resources/grad-students.csv'\n",
    "\n",
    "#Import file as a DataFrame\n",
    "grad_students_df = pd.read_csv(grad_students_csv_file)\n"
   ]
  },
  {
   "cell_type": "code",
   "execution_count": 30,
   "metadata": {},
   "outputs": [],
   "source": [
    "new_grad_students_df = grad_students_df[['Major_code', 'Grad_total', 'Grad_employed', 'Grad_full_time_year_round', 'Grad_unemployed','Nongrad_total', 'Nongrad_employed', 'Nongrad_full_time_year_round', 'Nongrad_unemployed']]\n"
   ]
  },
  {
   "cell_type": "code",
   "execution_count": 31,
   "metadata": {},
   "outputs": [],
   "source": [
    "merge_data = pd.merge(new_all_ages_df, new_grad_students_df, on=\"Major_code\", how=\"inner\")\n"
   ]
  },
  {
   "cell_type": "code",
   "execution_count": 46,
   "metadata": {},
   "outputs": [],
   "source": [
    "ag_nat = merge_data[merge_data[\"Major_category\"] == \"Agriculture & Natural Resources\"]\n",
    "arts_db =  merge_data[merge_data[\"Major_category\"] == \"Arts\"]\n",
    "bio_db = merge_data[merge_data[\"Major_category\"] == \"Biology & Life Science\"]\n",
    "business_db =  merge_data[merge_data[\"Major_category\"] == \"Business\"]\n",
    "comm_db =  merge_data[merge_data[\"Major_category\"] == \"Communications & Journalism\"]\n",
    "comp_math_db =  merge_data[merge_data[\"Major_category\"] == \"Computers & Mathematics\"]\n",
    "education_db =  merge_data[merge_data[\"Major_category\"] == \"Education\"]\n",
    "engine_db =  merge_data[merge_data[\"Major_category\"] == \"Engineering\"]\n",
    "health_db =  merge_data[merge_data[\"Major_category\"] == \"Health\"]\n",
    "humanity_db =  merge_data[merge_data[\"Major_category\"] == \"Humanities & Liberal Arts\"]\n",
    "indus_db =  merge_data[merge_data[\"Major_category\"] == \"Industrial Arts & Consumer Services\"]\n",
    "inter_db =  merge_data[merge_data[\"Major_category\"] == \"Interdisciplinary\"]\n",
    "law_pub_db =  merge_data[merge_data[\"Major_category\"] == \"Law & Public Policy\"]\n",
    "phys_sci_db =  merge_data[merge_data[\"Major_category\"] == \"Physical Sciences\"]\n",
    "psyc_social_db =  merge_data[merge_data[\"Major_category\"] == \"Psychology & Social Work\"]\n",
    "soc_sci_db =  merge_data[merge_data[\"Major_category\"] == \"Social Science\"]\n",
    "majors_db = merge_data[[\"Major_code\", \"Major\", \"Major_category\"]]\n"
   ]
  },
  {
   "cell_type": "code",
   "execution_count": 50,
   "metadata": {},
   "outputs": [],
   "source": [
    "clean_ag_nat = ag_nat[['Major', 'Grad_total', 'Grad_employed', 'Grad_full_time_year_round', 'Grad_unemployed','Nongrad_total', 'Nongrad_employed', 'Nongrad_full_time_year_round', 'Nongrad_unemployed']]\n",
    "clean_arts_db = arts_db[['Major', 'Grad_total', 'Grad_employed', 'Grad_full_time_year_round', 'Grad_unemployed','Nongrad_total', 'Nongrad_employed', 'Nongrad_full_time_year_round', 'Nongrad_unemployed']]\n",
    "clean_bio_db = bio_db[['Major', 'Grad_total', 'Grad_employed', 'Grad_full_time_year_round', 'Grad_unemployed','Nongrad_total', 'Nongrad_employed', 'Nongrad_full_time_year_round', 'Nongrad_unemployed']]\n",
    "clean_bus_db = business_db[['Major', 'Grad_total', 'Grad_employed', 'Grad_full_time_year_round', 'Grad_unemployed','Nongrad_total', 'Nongrad_employed', 'Nongrad_full_time_year_round', 'Nongrad_unemployed']]\n",
    "clean_comm_db = comm_db[['Major', 'Grad_total', 'Grad_employed', 'Grad_full_time_year_round', 'Grad_unemployed','Nongrad_total', 'Nongrad_employed', 'Nongrad_full_time_year_round', 'Nongrad_unemployed']]\n",
    "clean_comp_math_db = comp_math_db[['Major', 'Grad_total', 'Grad_employed', 'Grad_full_time_year_round', 'Grad_unemployed','Nongrad_total', 'Nongrad_employed', 'Nongrad_full_time_year_round', 'Nongrad_unemployed']]\n",
    "clean_education_db = education_db[['Major', 'Grad_total', 'Grad_employed', 'Grad_full_time_year_round', 'Grad_unemployed','Nongrad_total', 'Nongrad_employed', 'Nongrad_full_time_year_round', 'Nongrad_unemployed']]\n",
    "clean_engine_db = engine_db[['Major', 'Grad_total', 'Grad_employed', 'Grad_full_time_year_round', 'Grad_unemployed','Nongrad_total', 'Nongrad_employed', 'Nongrad_full_time_year_round', 'Nongrad_unemployed']]\n",
    "clean_health_db = health_db[['Major', 'Grad_total', 'Grad_employed', 'Grad_full_time_year_round', 'Grad_unemployed','Nongrad_total', 'Nongrad_employed', 'Nongrad_full_time_year_round', 'Nongrad_unemployed']]\n",
    "clean_humanity_db = humanity_db[['Major', 'Grad_total', 'Grad_employed', 'Grad_full_time_year_round', 'Grad_unemployed','Nongrad_total', 'Nongrad_employed', 'Nongrad_full_time_year_round', 'Nongrad_unemployed']]\n",
    "clean_indus_db = indus_db[['Major', 'Grad_total', 'Grad_employed', 'Grad_full_time_year_round', 'Grad_unemployed','Nongrad_total', 'Nongrad_employed', 'Nongrad_full_time_year_round', 'Nongrad_unemployed']]\n",
    "clean_inter_db = inter_db[['Major', 'Grad_total', 'Grad_employed', 'Grad_full_time_year_round', 'Grad_unemployed','Nongrad_total', 'Nongrad_employed', 'Nongrad_full_time_year_round', 'Nongrad_unemployed']]\n",
    "clean_law_db = law_pub_db[['Major', 'Grad_total', 'Grad_employed', 'Grad_full_time_year_round', 'Grad_unemployed','Nongrad_total', 'Nongrad_employed', 'Nongrad_full_time_year_round', 'Nongrad_unemployed']]\n",
    "clean_phys_sci_db = phys_sci_db[['Major', 'Grad_total', 'Grad_employed', 'Grad_full_time_year_round', 'Grad_unemployed','Nongrad_total', 'Nongrad_employed', 'Nongrad_full_time_year_round', 'Nongrad_unemployed']]\n",
    "clean_psych_db = psyc_social_db[['Major', 'Grad_total', 'Grad_employed', 'Grad_full_time_year_round', 'Grad_unemployed','Nongrad_total', 'Nongrad_employed', 'Nongrad_full_time_year_round', 'Nongrad_unemployed']]\n",
    "clean_soc_sci_db = soc_sci_db[['Major', 'Grad_total', 'Grad_employed', 'Grad_full_time_year_round', 'Grad_unemployed','Nongrad_total', 'Nongrad_employed', 'Nongrad_full_time_year_round', 'Nongrad_unemployed']]\n"
   ]
  },
  {
   "cell_type": "code",
   "execution_count": null,
   "metadata": {},
   "outputs": [],
   "source": []
  }
 ],
 "metadata": {
  "kernelspec": {
   "display_name": "Python 3",
   "language": "python",
   "name": "python3"
  },
  "language_info": {
   "codemirror_mode": {
    "name": "ipython",
    "version": 3
   },
   "file_extension": ".py",
   "mimetype": "text/x-python",
   "name": "python",
   "nbconvert_exporter": "python",
   "pygments_lexer": "ipython3",
   "version": "3.7.3"
  }
 },
 "nbformat": 4,
 "nbformat_minor": 4
}
